{
 "cells": [
  {
   "cell_type": "markdown",
   "metadata": {},
   "source": [
    "By querying GDR2 TAP services we will construct a matrix that contains the starcounts per G mag bin and per hpx.\n",
    "\n",
    "First we do this for all GDR2 sources with RP and BP measurement and count the number of sources per G, then per RP and per BP magnitude. For comparison we will do the same for GDR2mock later "
   ]
  },
  {
   "cell_type": "code",
   "execution_count": 1,
   "metadata": {
    "collapsed": true
   },
   "outputs": [],
   "source": [
    "import gdr2_completeness.tap_queries as tap\n",
    "import gdr2_completeness.data_manipulation as dr2\n",
    "import numpy as np"
   ]
  },
  {
   "cell_type": "code",
   "execution_count": null,
   "metadata": {
    "collapsed": true
   },
   "outputs": [],
   "source": [
    "# Here we download the starcounts per healpix and Gmagbin for all GDR2 sources:\n",
    "\n",
    "# For our spatial resolution we chose hpx level 7 --> which is about 0.2 arcdeg^2 per hpx.\n",
    "source_id_factor = tap.gaia_hpx_factor(7)\n",
    "\n",
    "# Select_what defines in the ADQL query what we want to retrieve\n",
    "Select_what =   \"\"\"ROUND(phot_g_mean_mag,1) as bin,\n",
    "  FLOOR(source_id/%d) as hpx,\n",
    "  COUNT(*) as ct\"\"\" %(source_id_factor)\n",
    "\n",
    "# Here the WHERE condition is added automatically, which splits up the whole sky query into hpx chunks.\n",
    "# It looks like: 'WHERE source_id between 0 and XXX'. \n",
    "\n",
    "## The under_condition follows that text in the ADQL query and can also be used to add more conditions (see below). \n",
    "under_condition = \"\"\"AND phot_bp_mean_mag IS NOT NULL\n",
    "                    AND phot_rp_mean_mag IS NOT NULL\n",
    "                    AND phot_g_mean_mag < 20.7\n",
    "                    GROUP BY bin, hpx\n",
    "                    ORDER BY hpx\"\"\"\n",
    "\n",
    "## Where to store the downloaded data\n",
    "folder_all = 'data/all_magnitudes/for_GDR3mock_comparison/'\n",
    "\n",
    "## Into how many hpx chunks the query should be divided: 0 --> 12, 1 --> 48, 2 --> 192 etc.\n",
    "## Beware that the hpx are have not the same number of sources. The difference can be on the order of 1000.\n",
    "hpx_level = 0\n",
    "\n",
    "## Which service do you want to use:\n",
    "#           CDS - this is the vizier service\n",
    "#           ARI - this is the ARI Gaia service\n",
    "#           ESA - this is the ESA service (did not seem to work with pyvo so far)\n",
    "#           GDR2light - this is the GAVO service for Gaia DR2 light (only the main columns are included, bad if you need quality flags)\n",
    "#           GDR2mock - this is also hosted by GAVO and contains the GDR2 mock data which is a model Galaxy with a gmag limit of 20.7\n",
    "service = 'GDR2light'\n",
    "\n",
    "## This is the function querying. Please in order to not overload the Server test it on only one healpix beforehand\n",
    "## By setting the 'test_1st_hpx_only' flag to 'True'.\n",
    "\n",
    "tap.tap_query_gdr2_hpx_sliced(service = service, hpx_level = hpx_level, folder = folder_all,\n",
    "                          Select_what = Select_what, under_condition = under_condition,\n",
    "                          verbose = True, test_1st_hpx_only = False)\n",
    "\n",
    "## This function joins all the individual files and creates the matrix that contains the starcounts per hpx and gmag\n",
    "tap.convert_to_starcount_cube(folder_all)\n"
   ]
  },
  {
   "cell_type": "code",
   "execution_count": null,
   "metadata": {
    "collapsed": true
   },
   "outputs": [],
   "source": [
    "source_id_factor = tap.gaia_hpx_factor(7)\n",
    "Select_what =   \"\"\"ROUND(phot_bp_mean_mag,1) as bin,\n",
    "  FLOOR(source_id/%d) as hpx,\n",
    "  COUNT(*) as ct\"\"\" %(source_id_factor)\n",
    "under_condition = \"\"\"AND phot_bp_mean_mag IS NOT NULL\n",
    "                    AND phot_rp_mean_mag IS NOT NULL\n",
    "                    AND phot_g_mean_mag < 20.7\n",
    "                    GROUP BY bin, hpx\n",
    "                    ORDER BY hpx\"\"\"\n",
    "folder_all = 'data/all_magnitudes/for_GDR3mock_comparison_bp/'\n",
    "hpx_level = 0\n",
    "service = 'GDR2light'\n",
    "tap.tap_query_gdr2_hpx_sliced(service = service, hpx_level = hpx_level, folder = folder_all,\n",
    "                          Select_what = Select_what, under_condition = under_condition,\n",
    "                          verbose = True, test_1st_hpx_only = False)\n",
    "\n",
    "## This function joins all the individual files and creates the matrix that contains the starcounts per hpx and gmag\n",
    "tap.convert_to_starcount_cube(folder_all)\n"
   ]
  },
  {
   "cell_type": "code",
   "execution_count": null,
   "metadata": {
    "collapsed": true
   },
   "outputs": [],
   "source": [
    "source_id_factor = tap.gaia_hpx_factor(7)\n",
    "Select_what =   \"\"\"ROUND(phot_rp_mean_mag,1) as bin,\n",
    "  FLOOR(source_id/%d) as hpx,\n",
    "  COUNT(*) as ct\"\"\" %(source_id_factor)\n",
    "under_condition = \"\"\"AND phot_bp_mean_mag IS NOT NULL\n",
    "                    AND phot_rp_mean_mag IS NOT NULL\n",
    "                    AND phot_g_mean_mag < 20.7\n",
    "                    GROUP BY bin, hpx\n",
    "                    ORDER BY hpx\"\"\"\n",
    "folder_all = 'data/all_magnitudes/for_GDR3mock_comparison_rp/'\n",
    "hpx_level = 0\n",
    "service = 'GDR2light'\n",
    "tap.tap_query_gdr2_hpx_sliced(service = service, hpx_level = hpx_level, folder = folder_all,\n",
    "                          Select_what = Select_what, under_condition = under_condition,\n",
    "                          verbose = True, test_1st_hpx_only = False)\n",
    "\n",
    "## This function joins all the individual files and creates the matrix that contains the starcounts per hpx and gmag\n",
    "tap.convert_to_starcount_cube(folder_all)\n"
   ]
  },
  {
   "cell_type": "code",
   "execution_count": 2,
   "metadata": {},
   "outputs": [
    {
     "name": "stdout",
     "output_type": "stream",
     "text": [
      "Healpix level, gaia_factor, #healpixels\n",
      "0 576460752303423488 12\n",
      "folder existed and existing files will not be queried again\n",
      "number of attempt: 1\n",
      "number of files in folder: 0\n",
      "number of hpx chunks: 12\n",
      "0 is already queried\n",
      "1 is already queried\n",
      "2 is already queried\n",
      "3 is already queried\n",
      "4 is already queried\n",
      "5 is already queried\n",
      "6 is already queried\n",
      "7 is already queried\n",
      "8 added to the job list\n",
      "9 added to the job list\n",
      "10 added to the job list\n",
      "11 added to the job list\n",
      "total ADQL queries to download: 4\n"
     ]
    },
    {
     "name": "stderr",
     "output_type": "stream",
     "text": [
      "WARNING: AstropyDeprecationWarning: Using the table property is deprecated. Please use se to_table() instead. [pyvo.dal.query]\n"
     ]
    },
    {
     "name": "stdout",
     "output_type": "stream",
     "text": [
      "1 / 4 done\n",
      "2 / 4 done\n",
      "3 / 4 done\n",
      "all files have been successfully downloaded to data/all_magnitudes/for_GDR3mock_comparison_g_rp/\n",
      "Length of the stacked download: 18185504  And the dtype: [('bin', '<f8'), ('hpx', '<f8'), ('ct', '<i4')]\n",
      "healpixels with entries: 196608\n",
      "the magnitude bins: [ 1.7  1.8  1.9  2.   2.1  2.2  2.3  2.4  2.5  2.6  2.7  2.8  2.9  3.\n",
      "  3.1  3.2  3.3  3.4  3.5  3.6  3.7  3.8  3.9  4.   4.1  4.2  4.3  4.4\n",
      "  4.5  4.6  4.7  4.8  4.9  5.   5.1  5.2  5.3  5.4  5.5  5.6  5.7  5.8\n",
      "  5.9  6.   6.1  6.2  6.3  6.4  6.5  6.6  6.7  6.8  6.9  7.   7.1  7.2\n",
      "  7.3  7.4  7.5  7.6  7.7  7.8  7.9  8.   8.1  8.2  8.3  8.4  8.5  8.6\n",
      "  8.7  8.8  8.9  9.   9.1  9.2  9.3  9.4  9.5  9.6  9.7  9.8  9.9 10.\n",
      " 10.1 10.2 10.3 10.4 10.5 10.6 10.7 10.8 10.9 11.  11.1 11.2 11.3 11.4\n",
      " 11.5 11.6 11.7 11.8 11.9 12.  12.1 12.2 12.3 12.4 12.5 12.6 12.7 12.8\n",
      " 12.9 13.  13.1 13.2 13.3 13.4 13.5 13.6 13.7 13.8 13.9 14.  14.1 14.2\n",
      " 14.3 14.4 14.5 14.6 14.7 14.8 14.9 15.  15.1 15.2 15.3 15.4 15.5 15.6\n",
      " 15.7 15.8 15.9 16.  16.1 16.2 16.3 16.4 16.5 16.6 16.7 16.8 16.9 17.\n",
      " 17.1 17.2 17.3 17.4 17.5 17.6 17.7 17.8 17.9 18.  18.1 18.2 18.3 18.4\n",
      " 18.5 18.6 18.7 18.8 18.9 19.  19.1 19.2 19.3 19.4 19.5 19.6 19.7 19.8\n",
      " 19.9 20.  20.1 20.2 20.3 20.4 20.5 20.6 20.7]\n"
     ]
    }
   ],
   "source": [
    "source_id_factor = tap.gaia_hpx_factor(7)\n",
    "Select_what =   \"\"\"ROUND(phot_g_mean_mag,1) as bin,\n",
    "  FLOOR(source_id/%d) as hpx,\n",
    "  COUNT(*) as ct\"\"\" %(source_id_factor)\n",
    "under_condition = \"\"\"AND phot_rp_mean_mag IS NOT NULL\n",
    "                    AND phot_g_mean_mag < 20.7\n",
    "                    GROUP BY bin, hpx\n",
    "                    ORDER BY hpx\"\"\"\n",
    "folder_all = 'data/all_magnitudes/for_GDR3mock_comparison_g_rp/'\n",
    "hpx_level = 0\n",
    "service = 'GDR2light'\n",
    "tap.tap_query_gdr2_hpx_sliced(service = service, hpx_level = hpx_level, folder = folder_all,\n",
    "                          Select_what = Select_what, under_condition = under_condition,\n",
    "                          verbose = True, test_1st_hpx_only = False)\n",
    "\n",
    "## This function joins all the individual files and creates the matrix that contains the starcounts per hpx and gmag\n",
    "tap.convert_to_starcount_cube(folder_all)\n"
   ]
  },
  {
   "cell_type": "code",
   "execution_count": 3,
   "metadata": {},
   "outputs": [
    {
     "name": "stdout",
     "output_type": "stream",
     "text": [
      "Healpix level, gaia_factor, #healpixels\n",
      "0 576460752303423488 12\n",
      "folder did not exist before, is created now\n",
      "number of attempt: 1\n",
      "number of files in folder: 0\n",
      "number of hpx chunks: 12\n",
      "0 added to the job list\n",
      "1 added to the job list\n",
      "2 added to the job list\n",
      "3 added to the job list\n",
      "4 added to the job list\n",
      "5 added to the job list\n",
      "6 added to the job list\n",
      "7 added to the job list\n",
      "8 added to the job list\n",
      "9 added to the job list\n",
      "10 added to the job list\n",
      "11 added to the job list\n",
      "total ADQL queries to download: 12\n"
     ]
    },
    {
     "name": "stderr",
     "output_type": "stream",
     "text": [
      "WARNING: AstropyDeprecationWarning: Using the table property is deprecated. Please use se to_table() instead. [pyvo.dal.query]\n"
     ]
    },
    {
     "name": "stdout",
     "output_type": "stream",
     "text": [
      "1 / 12 done\n",
      "2 / 12 done\n",
      "3 / 12 done\n",
      "4 / 12 done\n",
      "5 / 12 done\n",
      "6 / 12 done\n",
      "7 / 12 done\n",
      "8 / 12 done\n",
      "9 / 12 done\n",
      "10 / 12 done\n",
      "11 / 12 done\n",
      "all files have been successfully downloaded to data/all_magnitudes/for_GDR3mock_comparison_g_GDR2mock/\n",
      "Length of the stacked download: 17908114  And the dtype: [('bin', '<f8'), ('hpx', '<f8'), ('ct', '<i4')]\n",
      "healpixels with entries: 196608\n",
      "the magnitude bins: [-0.3 -0.1  0.2  0.3  0.4  0.7  0.8  0.9  1.   1.1  1.2  1.3  1.4  1.5\n",
      "  1.6  1.7  1.8  1.9  2.   2.1  2.2  2.3  2.4  2.5  2.6  2.7  2.8  2.9\n",
      "  3.   3.1  3.2  3.3  3.4  3.5  3.6  3.7  3.8  3.9  4.   4.1  4.2  4.3\n",
      "  4.4  4.5  4.6  4.7  4.8  4.9  5.   5.1  5.2  5.3  5.4  5.5  5.6  5.7\n",
      "  5.8  5.9  6.   6.1  6.2  6.3  6.4  6.5  6.6  6.7  6.8  6.9  7.   7.1\n",
      "  7.2  7.3  7.4  7.5  7.6  7.7  7.8  7.9  8.   8.1  8.2  8.3  8.4  8.5\n",
      "  8.6  8.7  8.8  8.9  9.   9.1  9.2  9.3  9.4  9.5  9.6  9.7  9.8  9.9\n",
      " 10.  10.1 10.2 10.3 10.4 10.5 10.6 10.7 10.8 10.9 11.  11.1 11.2 11.3\n",
      " 11.4 11.5 11.6 11.7 11.8 11.9 12.  12.1 12.2 12.3 12.4 12.5 12.6 12.7\n",
      " 12.8 12.9 13.  13.1 13.2 13.3 13.4 13.5 13.6 13.7 13.8 13.9 14.  14.1\n",
      " 14.2 14.3 14.4 14.5 14.6 14.7 14.8 14.9 15.  15.1 15.2 15.3 15.4 15.5\n",
      " 15.6 15.7 15.8 15.9 16.  16.1 16.2 16.3 16.4 16.5 16.6 16.7 16.8 16.9\n",
      " 17.  17.1 17.2 17.3 17.4 17.5 17.6 17.7 17.8 17.9 18.  18.1 18.2 18.3\n",
      " 18.4 18.5 18.6 18.7 18.8 18.9 19.  19.1 19.2 19.3 19.4 19.5 19.6 19.7\n",
      " 19.8 19.9 20.  20.1 20.2 20.3 20.4 20.5 20.6 20.7]\n"
     ]
    }
   ],
   "source": [
    "source_id_factor = tap.gaia_hpx_factor(7)\n",
    "Select_what =   \"\"\"ROUND(phot_g_mean_mag,1) as bin,\n",
    "  FLOOR(source_id/%d) as hpx,\n",
    "  COUNT(*) as ct\"\"\" %(source_id_factor)\n",
    "under_condition = \"\"\"AND phot_bp_mean_mag < 20.7\n",
    "                    GROUP BY bin, hpx\n",
    "                    ORDER BY hpx\"\"\"\n",
    "folder_all = 'data/all_magnitudes/for_GDR3mock_comparison_g_GDR2mock/'\n",
    "hpx_level = 0\n",
    "service = 'GDR2mock'\n",
    "tap.tap_query_gdr2_hpx_sliced(service = service, hpx_level = hpx_level, folder = folder_all,\n",
    "                          Select_what = Select_what, under_condition = under_condition,\n",
    "                          verbose = True, test_1st_hpx_only = False)\n",
    "\n",
    "## This function joins all the individual files and creates the matrix that contains the starcounts per hpx and gmag\n",
    "tap.convert_to_starcount_cube(folder_all)"
   ]
  },
  {
   "cell_type": "code",
   "execution_count": 4,
   "metadata": {},
   "outputs": [
    {
     "name": "stdout",
     "output_type": "stream",
     "text": [
      "Healpix level, gaia_factor, #healpixels\n",
      "0 576460752303423488 12\n",
      "folder did not exist before, is created now\n",
      "number of attempt: 1\n",
      "number of files in folder: 0\n",
      "number of hpx chunks: 12\n",
      "0 added to the job list\n",
      "1 added to the job list\n",
      "2 added to the job list\n",
      "3 added to the job list\n",
      "4 added to the job list\n",
      "5 added to the job list\n",
      "6 added to the job list\n",
      "7 added to the job list\n",
      "8 added to the job list\n",
      "9 added to the job list\n",
      "10 added to the job list\n",
      "11 added to the job list\n",
      "total ADQL queries to download: 12\n"
     ]
    },
    {
     "name": "stderr",
     "output_type": "stream",
     "text": [
      "WARNING: AstropyDeprecationWarning: Using the table property is deprecated. Please use se to_table() instead. [pyvo.dal.query]\n"
     ]
    },
    {
     "name": "stdout",
     "output_type": "stream",
     "text": [
      "1 / 12 done\n",
      "2 / 12 done\n",
      "3 / 12 done\n",
      "4 / 12 done\n",
      "5 / 12 done\n",
      "6 / 12 done\n",
      "7 / 12 done\n",
      "8 / 12 done\n",
      "9 / 12 done\n",
      "10 / 12 done\n",
      "11 / 12 done\n",
      "all files have been successfully downloaded to data/all_magnitudes/for_GDR3mock_comparison_g_GDR2mock_rp_only/\n",
      "Length of the stacked download: 18601482  And the dtype: [('bin', '<f8'), ('hpx', '<f8'), ('ct', '<i4')]\n",
      "healpixels with entries: 196608\n",
      "the magnitude bins: [-0.3 -0.1  0.2  0.3  0.4  0.7  0.8  0.9  1.   1.1  1.2  1.3  1.4  1.5\n",
      "  1.6  1.7  1.8  1.9  2.   2.1  2.2  2.3  2.4  2.5  2.6  2.7  2.8  2.9\n",
      "  3.   3.1  3.2  3.3  3.4  3.5  3.6  3.7  3.8  3.9  4.   4.1  4.2  4.3\n",
      "  4.4  4.5  4.6  4.7  4.8  4.9  5.   5.1  5.2  5.3  5.4  5.5  5.6  5.7\n",
      "  5.8  5.9  6.   6.1  6.2  6.3  6.4  6.5  6.6  6.7  6.8  6.9  7.   7.1\n",
      "  7.2  7.3  7.4  7.5  7.6  7.7  7.8  7.9  8.   8.1  8.2  8.3  8.4  8.5\n",
      "  8.6  8.7  8.8  8.9  9.   9.1  9.2  9.3  9.4  9.5  9.6  9.7  9.8  9.9\n",
      " 10.  10.1 10.2 10.3 10.4 10.5 10.6 10.7 10.8 10.9 11.  11.1 11.2 11.3\n",
      " 11.4 11.5 11.6 11.7 11.8 11.9 12.  12.1 12.2 12.3 12.4 12.5 12.6 12.7\n",
      " 12.8 12.9 13.  13.1 13.2 13.3 13.4 13.5 13.6 13.7 13.8 13.9 14.  14.1\n",
      " 14.2 14.3 14.4 14.5 14.6 14.7 14.8 14.9 15.  15.1 15.2 15.3 15.4 15.5\n",
      " 15.6 15.7 15.8 15.9 16.  16.1 16.2 16.3 16.4 16.5 16.6 16.7 16.8 16.9\n",
      " 17.  17.1 17.2 17.3 17.4 17.5 17.6 17.7 17.8 17.9 18.  18.1 18.2 18.3\n",
      " 18.4 18.5 18.6 18.7 18.8 18.9 19.  19.1 19.2 19.3 19.4 19.5 19.6 19.7\n",
      " 19.8 19.9 20.  20.1 20.2 20.3 20.4 20.5 20.6 20.7]\n"
     ]
    }
   ],
   "source": [
    "source_id_factor = tap.gaia_hpx_factor(7)\n",
    "Select_what =   \"\"\"ROUND(phot_g_mean_mag,1) as bin,\n",
    "  FLOOR(source_id/%d) as hpx,\n",
    "  COUNT(*) as ct\"\"\" %(source_id_factor)\n",
    "under_condition = \"\"\"AND phot_rp_mean_mag < 20.7\n",
    "                    GROUP BY bin, hpx\n",
    "                    ORDER BY hpx\"\"\"\n",
    "folder_all = 'data/all_magnitudes/for_GDR3mock_comparison_g_GDR2mock_rp_only/'\n",
    "hpx_level = 0\n",
    "service = 'GDR2mock'\n",
    "tap.tap_query_gdr2_hpx_sliced(service = service, hpx_level = hpx_level, folder = folder_all,\n",
    "                          Select_what = Select_what, under_condition = under_condition,\n",
    "                          verbose = True, test_1st_hpx_only = False)\n",
    "\n",
    "## This function joins all the individual files and creates the matrix that contains the starcounts per hpx and gmag\n",
    "tap.convert_to_starcount_cube(folder_all)"
   ]
  },
  {
   "cell_type": "code",
   "execution_count": 6,
   "metadata": {},
   "outputs": [
    {
     "name": "stdout",
     "output_type": "stream",
     "text": [
      "Healpix level, gaia_factor, #healpixels\n",
      "0 576460752303423488 12\n",
      "folder existed and existing files will not be queried again\n",
      "number of attempt: 1\n",
      "number of files in folder: 0\n",
      "number of hpx chunks: 12\n",
      "0 is already queried\n",
      "1 is already queried\n",
      "2 is already queried\n",
      "3 is already queried\n",
      "4 is already queried\n",
      "5 is already queried\n",
      "6 is already queried\n",
      "7 is already queried\n",
      "8 is already queried\n",
      "9 is already queried\n",
      "10 is already queried\n",
      "11 added to the job list\n",
      "total ADQL queries to download: 1\n"
     ]
    },
    {
     "name": "stderr",
     "output_type": "stream",
     "text": [
      "WARNING: AstropyDeprecationWarning: Using the table property is deprecated. Please use se to_table() instead. [pyvo.dal.query]\n"
     ]
    },
    {
     "name": "stdout",
     "output_type": "stream",
     "text": [
      "all files have been successfully downloaded to data/all_magnitudes/for_GDR3mock_comparison_rp_g/\n",
      "Length of the stacked download: 18675250  And the dtype: [('bin', '<f8'), ('hpx', '<f8'), ('ct', '<i4')]\n",
      "healpixels with entries: 196608\n",
      "the magnitude bins: [ 1.9  2.   2.1  2.2  2.3  2.4  2.5  2.6  2.7  2.8  2.9  3.   3.1  3.2\n",
      "  3.3  3.4  3.5  3.6  3.7  3.8  3.9  4.   4.1  4.2  4.3  4.4  4.5  4.6\n",
      "  4.7  4.8  4.9  5.   5.1  5.2  5.3  5.4  5.5  5.6  5.7  5.8  5.9  6.\n",
      "  6.1  6.2  6.3  6.4  6.5  6.6  6.7  6.8  6.9  7.   7.1  7.2  7.3  7.4\n",
      "  7.5  7.6  7.7  7.8  7.9  8.   8.1  8.2  8.3  8.4  8.5  8.6  8.7  8.8\n",
      "  8.9  9.   9.1  9.2  9.3  9.4  9.5  9.6  9.7  9.8  9.9 10.  10.1 10.2\n",
      " 10.3 10.4 10.5 10.6 10.7 10.8 10.9 11.  11.1 11.2 11.3 11.4 11.5 11.6\n",
      " 11.7 11.8 11.9 12.  12.1 12.2 12.3 12.4 12.5 12.6 12.7 12.8 12.9 13.\n",
      " 13.1 13.2 13.3 13.4 13.5 13.6 13.7 13.8 13.9 14.  14.1 14.2 14.3 14.4\n",
      " 14.5 14.6 14.7 14.8 14.9 15.  15.1 15.2 15.3 15.4 15.5 15.6 15.7 15.8\n",
      " 15.9 16.  16.1 16.2 16.3 16.4 16.5 16.6 16.7 16.8 16.9 17.  17.1 17.2\n",
      " 17.3 17.4 17.5 17.6 17.7 17.8 17.9 18.  18.1 18.2 18.3 18.4 18.5 18.6\n",
      " 18.7 18.8 18.9 19.  19.1 19.2 19.3 19.4 19.5 19.6 19.7 19.8 19.9 20.\n",
      " 20.1 20.2 20.3 20.4 20.5 20.6 20.7 20.8 20.9 21.  21.1 21.2 21.3 21.4\n",
      " 21.5 21.6 21.7 21.8 21.9 22.  22.1 22.2 22.3 22.4 22.5 22.6 22.7 22.8\n",
      " 22.9 23.  23.1 23.2 23.3 23.4 23.5 23.6 23.7 23.8 23.9 24.  24.1 24.2\n",
      " 24.3 24.4 24.5 24.6]\n"
     ]
    }
   ],
   "source": [
    "source_id_factor = tap.gaia_hpx_factor(7)\n",
    "Select_what =   \"\"\"ROUND(phot_rp_mean_mag,1) as bin,\n",
    "  FLOOR(source_id/%d) as hpx,\n",
    "  COUNT(*) as ct\"\"\" %(source_id_factor)\n",
    "under_condition = \"\"\"AND phot_rp_mean_mag IS NOT NULL\n",
    "                    AND phot_g_mean_mag < 20.7\n",
    "                    GROUP BY bin, hpx\n",
    "                    ORDER BY hpx\"\"\"\n",
    "folder_all = 'data/all_magnitudes/for_GDR3mock_comparison_rp_g/'\n",
    "hpx_level = 0\n",
    "service = 'GDR2light'\n",
    "tap.tap_query_gdr2_hpx_sliced(service = service, hpx_level = hpx_level, folder = folder_all,\n",
    "                          Select_what = Select_what, under_condition = under_condition,\n",
    "                          verbose = True, test_1st_hpx_only = False)\n",
    "\n",
    "## This function joins all the individual files and creates the matrix that contains the starcounts per hpx and gmag\n",
    "tap.convert_to_starcount_cube(folder_all)\n"
   ]
  },
  {
   "cell_type": "code",
   "execution_count": 7,
   "metadata": {},
   "outputs": [
    {
     "name": "stdout",
     "output_type": "stream",
     "text": [
      "Healpix level, gaia_factor, #healpixels\n",
      "0 576460752303423488 12\n",
      "folder did not exist before, is created now\n",
      "number of attempt: 1\n",
      "number of files in folder: 0\n",
      "number of hpx chunks: 12\n",
      "0 added to the job list\n",
      "1 added to the job list\n",
      "2 added to the job list\n",
      "3 added to the job list\n",
      "4 added to the job list\n",
      "5 added to the job list\n",
      "6 added to the job list\n",
      "7 added to the job list\n",
      "8 added to the job list\n",
      "9 added to the job list\n",
      "10 added to the job list\n",
      "11 added to the job list\n",
      "total ADQL queries to download: 12\n"
     ]
    },
    {
     "name": "stderr",
     "output_type": "stream",
     "text": [
      "WARNING: AstropyDeprecationWarning: Using the table property is deprecated. Please use se to_table() instead. [pyvo.dal.query]\n"
     ]
    },
    {
     "name": "stdout",
     "output_type": "stream",
     "text": [
      "1 / 12 done\n",
      "2 / 12 done\n",
      "3 / 12 done\n",
      "4 / 12 done\n",
      "5 / 12 done\n",
      "6 / 12 done\n",
      "7 / 12 done\n",
      "8 / 12 done\n",
      "9 / 12 done\n",
      "10 / 12 done\n",
      "11 / 12 done\n",
      "all files have been successfully downloaded to data/all_magnitudes/for_GDR3mock_comparison_rp_GDR2mock_rp_only/\n",
      "Length of the stacked download: 18811231  And the dtype: [('bin', '<f8'), ('hpx', '<f8'), ('ct', '<i4')]\n",
      "healpixels with entries: 196608\n",
      "the magnitude bins: [-1.3 -1.1 -1.  -0.8 -0.6 -0.4 -0.2 -0.1  0.3  0.4  0.5  0.6  0.7  0.8\n",
      "  0.9  1.   1.1  1.2  1.3  1.4  1.5  1.6  1.7  1.8  1.9  2.   2.1  2.2\n",
      "  2.3  2.4  2.5  2.6  2.7  2.8  2.9  3.   3.1  3.2  3.3  3.4  3.5  3.6\n",
      "  3.7  3.8  3.9  4.   4.1  4.2  4.3  4.4  4.5  4.6  4.7  4.8  4.9  5.\n",
      "  5.1  5.2  5.3  5.4  5.5  5.6  5.7  5.8  5.9  6.   6.1  6.2  6.3  6.4\n",
      "  6.5  6.6  6.7  6.8  6.9  7.   7.1  7.2  7.3  7.4  7.5  7.6  7.7  7.8\n",
      "  7.9  8.   8.1  8.2  8.3  8.4  8.5  8.6  8.7  8.8  8.9  9.   9.1  9.2\n",
      "  9.3  9.4  9.5  9.6  9.7  9.8  9.9 10.  10.1 10.2 10.3 10.4 10.5 10.6\n",
      " 10.7 10.8 10.9 11.  11.1 11.2 11.3 11.4 11.5 11.6 11.7 11.8 11.9 12.\n",
      " 12.1 12.2 12.3 12.4 12.5 12.6 12.7 12.8 12.9 13.  13.1 13.2 13.3 13.4\n",
      " 13.5 13.6 13.7 13.8 13.9 14.  14.1 14.2 14.3 14.4 14.5 14.6 14.7 14.8\n",
      " 14.9 15.  15.1 15.2 15.3 15.4 15.5 15.6 15.7 15.8 15.9 16.  16.1 16.2\n",
      " 16.3 16.4 16.5 16.6 16.7 16.8 16.9 17.  17.1 17.2 17.3 17.4 17.5 17.6\n",
      " 17.7 17.8 17.9 18.  18.1 18.2 18.3 18.4 18.5 18.6 18.7 18.8 18.9 19.\n",
      " 19.1 19.2 19.3 19.4 19.5 19.6 19.7 19.8 19.9 20.  20.1 20.2 20.3 20.4\n",
      " 20.5 20.6 20.7]\n"
     ]
    }
   ],
   "source": [
    "source_id_factor = tap.gaia_hpx_factor(7)\n",
    "Select_what =   \"\"\"ROUND(phot_rp_mean_mag,1) as bin,\n",
    "  FLOOR(source_id/%d) as hpx,\n",
    "  COUNT(*) as ct\"\"\" %(source_id_factor)\n",
    "under_condition = \"\"\"AND phot_rp_mean_mag < 20.7\n",
    "                    GROUP BY bin, hpx\n",
    "                    ORDER BY hpx\"\"\"\n",
    "folder_all = 'data/all_magnitudes/for_GDR3mock_comparison_rp_GDR2mock_rp_only/'\n",
    "hpx_level = 0\n",
    "service = 'GDR2mock'\n",
    "tap.tap_query_gdr2_hpx_sliced(service = service, hpx_level = hpx_level, folder = folder_all,\n",
    "                          Select_what = Select_what, under_condition = under_condition,\n",
    "                          verbose = True, test_1st_hpx_only = False)\n",
    "\n",
    "## This function joins all the individual files and creates the matrix that contains the starcounts per hpx and gmag\n",
    "tap.convert_to_starcount_cube(folder_all)"
   ]
  },
  {
   "cell_type": "code",
   "execution_count": 8,
   "metadata": {},
   "outputs": [
    {
     "name": "stdout",
     "output_type": "stream",
     "text": [
      "Healpix level, gaia_factor, #healpixels\n",
      "0 576460752303423488 12\n",
      "folder did not exist before, is created now\n",
      "number of attempt: 1\n",
      "number of files in folder: 0\n",
      "number of hpx chunks: 12\n",
      "0 added to the job list\n",
      "1 added to the job list\n",
      "2 added to the job list\n",
      "3 added to the job list\n",
      "4 added to the job list\n",
      "5 added to the job list\n",
      "6 added to the job list\n",
      "7 added to the job list\n",
      "8 added to the job list\n",
      "9 added to the job list\n",
      "10 added to the job list\n",
      "11 added to the job list\n",
      "total ADQL queries to download: 12\n"
     ]
    },
    {
     "name": "stderr",
     "output_type": "stream",
     "text": [
      "WARNING: AstropyDeprecationWarning: Using the table property is deprecated. Please use se to_table() instead. [pyvo.dal.query]\n"
     ]
    },
    {
     "name": "stdout",
     "output_type": "stream",
     "text": [
      "1 / 12 done\n",
      "2 / 12 done\n",
      "3 / 12 done\n",
      "4 / 12 done\n",
      "5 / 12 done\n",
      "6 / 12 done\n",
      "7 / 12 done\n",
      "8 / 12 done\n",
      "9 / 12 done\n",
      "10 / 12 done\n",
      "11 / 12 done\n",
      "all files have been successfully downloaded to data/all_magnitudes/for_GDR3mock_comparison_bp_GDR2mock_bp_only/\n",
      "Length of the stacked download: 17704781  And the dtype: [('bin', '<f8'), ('hpx', '<f8'), ('ct', '<i4')]\n",
      "healpixels with entries: 196608\n",
      "the magnitude bins: [ 0.3  0.5  0.7  0.8  0.9  1.   1.1  1.2  1.3  1.4  1.5  1.6  1.7  1.8\n",
      "  1.9  2.   2.1  2.2  2.3  2.4  2.5  2.6  2.7  2.8  2.9  3.   3.1  3.2\n",
      "  3.3  3.4  3.5  3.6  3.7  3.8  3.9  4.   4.1  4.2  4.3  4.4  4.5  4.6\n",
      "  4.7  4.8  4.9  5.   5.1  5.2  5.3  5.4  5.5  5.6  5.7  5.8  5.9  6.\n",
      "  6.1  6.2  6.3  6.4  6.5  6.6  6.7  6.8  6.9  7.   7.1  7.2  7.3  7.4\n",
      "  7.5  7.6  7.7  7.8  7.9  8.   8.1  8.2  8.3  8.4  8.5  8.6  8.7  8.8\n",
      "  8.9  9.   9.1  9.2  9.3  9.4  9.5  9.6  9.7  9.8  9.9 10.  10.1 10.2\n",
      " 10.3 10.4 10.5 10.6 10.7 10.8 10.9 11.  11.1 11.2 11.3 11.4 11.5 11.6\n",
      " 11.7 11.8 11.9 12.  12.1 12.2 12.3 12.4 12.5 12.6 12.7 12.8 12.9 13.\n",
      " 13.1 13.2 13.3 13.4 13.5 13.6 13.7 13.8 13.9 14.  14.1 14.2 14.3 14.4\n",
      " 14.5 14.6 14.7 14.8 14.9 15.  15.1 15.2 15.3 15.4 15.5 15.6 15.7 15.8\n",
      " 15.9 16.  16.1 16.2 16.3 16.4 16.5 16.6 16.7 16.8 16.9 17.  17.1 17.2\n",
      " 17.3 17.4 17.5 17.6 17.7 17.8 17.9 18.  18.1 18.2 18.3 18.4 18.5 18.6\n",
      " 18.7 18.8 18.9 19.  19.1 19.2 19.3 19.4 19.5 19.6 19.7 19.8 19.9 20.\n",
      " 20.1 20.2 20.3 20.4 20.5 20.6 20.7]\n"
     ]
    }
   ],
   "source": [
    "source_id_factor = tap.gaia_hpx_factor(7)\n",
    "Select_what =   \"\"\"ROUND(phot_bp_mean_mag,1) as bin,\n",
    "  FLOOR(source_id/%d) as hpx,\n",
    "  COUNT(*) as ct\"\"\" %(source_id_factor)\n",
    "under_condition = \"\"\"AND phot_bp_mean_mag < 20.7\n",
    "                    GROUP BY bin, hpx\n",
    "                    ORDER BY hpx\"\"\"\n",
    "folder_all = 'data/all_magnitudes/for_GDR3mock_comparison_bp_GDR2mock_bp_only/'\n",
    "hpx_level = 0\n",
    "service = 'GDR2mock'\n",
    "tap.tap_query_gdr2_hpx_sliced(service = service, hpx_level = hpx_level, folder = folder_all,\n",
    "                          Select_what = Select_what, under_condition = under_condition,\n",
    "                          verbose = True, test_1st_hpx_only = False)\n",
    "\n",
    "## This function joins all the individual files and creates the matrix that contains the starcounts per hpx and gmag\n",
    "tap.convert_to_starcount_cube(folder_all)"
   ]
  },
  {
   "cell_type": "code",
   "execution_count": null,
   "metadata": {
    "collapsed": true
   },
   "outputs": [],
   "source": []
  }
 ],
 "metadata": {
  "kernelspec": {
   "display_name": "Python 3",
   "language": "python",
   "name": "python3"
  },
  "language_info": {
   "codemirror_mode": {
    "name": "ipython",
    "version": 3
   },
   "file_extension": ".py",
   "mimetype": "text/x-python",
   "name": "python",
   "nbconvert_exporter": "python",
   "pygments_lexer": "ipython3",
   "version": "3.6.3"
  }
 },
 "nbformat": 4,
 "nbformat_minor": 2
}
