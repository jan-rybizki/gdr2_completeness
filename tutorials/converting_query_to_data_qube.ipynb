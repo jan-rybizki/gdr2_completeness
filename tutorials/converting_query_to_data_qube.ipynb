{
 "cells": [
  {
   "cell_type": "code",
   "execution_count": 1,
   "metadata": {},
   "outputs": [
    {
     "name": "stdout",
     "output_type": "stream",
     "text": [
      "Populating the interactive namespace from numpy and matplotlib\n"
     ]
    }
   ],
   "source": [
    "%pylab inline"
   ]
  },
  {
   "cell_type": "code",
   "execution_count": 2,
   "metadata": {},
   "outputs": [],
   "source": [
    "from astropy.io import fits"
   ]
  },
  {
   "cell_type": "code",
   "execution_count": 3,
   "metadata": {},
   "outputs": [],
   "source": [
    "def make_result_all(data,all_bins_mag,all_bins_color,all_hpx):\n",
    "    result = np.zeros(shape = (len(all_hpx),len(all_bins_mag),len(all_bins_color)), dtype = int)\n",
    "    for i,mag in enumerate(all_bins_mag):\n",
    "        for j,color in enumerate(all_bins_color):\n",
    "            temp = data[np.where(np.logical_and(np.isclose(data['mag'],mag),np.isclose(data['color'],color)))]\n",
    "            bins = temp['hpx'].astype(np.int32)\n",
    "            result[bins,i,j] = temp['n_all']\n",
    "    return(result)\n",
    "def make_result(data,all_bins_mag,all_bins_color,all_hpx):\n",
    "    result = np.zeros(shape = (len(all_hpx),len(all_bins_mag),len(all_bins_color)), dtype = int)\n",
    "    for i,mag in enumerate(all_bins_mag):\n",
    "        for j,color in enumerate(all_bins_color):\n",
    "            temp = data[np.where(np.logical_and(np.isclose(data['mag'],mag),np.isclose(data['color'],color)))]\n",
    "            bins = temp['hpx'].astype(np.int32)\n",
    "            result[bins,i,j] = temp['n_withrvs']\n",
    "    return(result)\n",
    "#write a function that cuts the data to a specific mag bin\n",
    "\n",
    "def decrease_hpx(data,ntimes):\n",
    "    for i in range(ntimes):\n",
    "        data = data[0::4,:,:] + data[1::4,:,:] + data[2::4,:,:] + data[3::4,:,:]\n",
    "    return(data)\n",
    "\n",
    "def decrease_mag(data,mag_bins,ntimes):\n",
    "    for i in range(ntimes):\n",
    "        data = data[:,0::2,:] + data[:,1::2,:]\n",
    "        mag_bins = np.divide(mag_bins[0::2] + mag_bins[1::2],2)\n",
    "    return(data,mag_bins)\n",
    "\n",
    "def decrease_color(data,color_bins,ntimes):\n",
    "    for i in range(ntimes):\n",
    "        data = data[:,:,0::2] + data[:,:,1::2]\n",
    "        color_bins = np.divide(color_bins[0::2] + color_bins[1::2],2)\n",
    "    return(data,color_bins)"
   ]
  },
  {
   "cell_type": "code",
   "execution_count": 4,
   "metadata": {},
   "outputs": [
    {
     "name": "stdout",
     "output_type": "stream",
     "text": [
      "12288\n",
      "[ 1.4  1.8  1.9  2.   2.1  2.2  2.3  2.4  2.5  2.6  2.7  2.8  2.9  3.\n",
      "  3.1  3.2  3.3  3.4  3.5  3.6  3.7  3.8  3.9  4.   4.1  4.2  4.3  4.4\n",
      "  4.5  4.6  4.7  4.8  4.9  5.   5.1  5.2  5.3  5.4  5.5  5.6  5.7  5.8\n",
      "  5.9  6.   6.1  6.2  6.3  6.4  6.5  6.6  6.7  6.8  6.9  7.   7.1  7.2\n",
      "  7.3  7.4  7.5  7.6  7.7  7.8  7.9  8.   8.1  8.2  8.3  8.4  8.5  8.6\n",
      "  8.7  8.8  8.9  9.   9.1  9.2  9.3  9.4  9.5  9.6  9.7  9.8  9.9 10.\n",
      " 10.1 10.2 10.3 10.4 10.5 10.6 10.7 10.8 10.9 11.  11.1 11.2 11.3 11.4\n",
      " 11.5 11.6 11.7 11.8 11.9 12.  12.1 12.2 12.3 12.4 12.5 12.6 12.7 12.8\n",
      " 12.9 13.  13.1 13.2 13.3 13.4 13.5 13.6 13.7 13.8 13.9 14.  14.1 14.2\n",
      " 14.3 14.4 14.5 14.6 14.7 14.8 14.9 15.  15.1 15.2 15.3 15.4 15.5 15.6\n",
      " 15.7 15.8 15.9 16.  16.1 16.2 16.3 16.4 16.5 16.6 16.7 16.8 16.9 17.\n",
      " 17.1 17.2 17.3 17.4 17.5 17.6 17.7 17.8 17.9 18.  18.1 18.2 18.3 18.4\n",
      " 18.5 18.6 18.7 18.8 18.9 19.  19.1 19.2 19.3 19.4 19.5 19.6 19.7 19.8\n",
      " 19.9 20.  20.1 20.2 20.3 20.4 20.5 20.6 20.7 20.8 20.9 21. ]\n",
      "[0.1 0.2 0.3 0.4 0.5 0.6 0.7 0.8 0.9 1.  1.1 1.2 1.3 1.4 1.5 1.6 1.7]\n"
     ]
    }
   ],
   "source": [
    "# result array has the form [nhpx:nmag:ncol] and within each entry the starcount\n",
    "# the necessary data file has been zipped (unpack before running)\n",
    "x = fits.getdata('../data/3d_selection_function.fits')\n",
    "print(len(np.unique(x.hpx)))\n",
    "print(np.unique(x.mag))\n",
    "print(np.unique(x.color))"
   ]
  },
  {
   "cell_type": "code",
   "execution_count": 5,
   "metadata": {},
   "outputs": [
    {
     "name": "stdout",
     "output_type": "stream",
     "text": [
      "13702253\n",
      "5027454\n",
      "5027454\n",
      "4683225\n",
      "12288\n",
      "[ 3.   3.1  3.2  3.3  3.4  3.5  3.6  3.7  3.8  3.9  4.   4.1  4.2  4.3\n",
      "  4.4  4.5  4.6  4.7  4.8  4.9  5.   5.1  5.2  5.3  5.4  5.5  5.6  5.7\n",
      "  5.8  5.9  6.   6.1  6.2  6.3  6.4  6.5  6.6  6.7  6.8  6.9  7.   7.1\n",
      "  7.2  7.3  7.4  7.5  7.6  7.7  7.8  7.9  8.   8.1  8.2  8.3  8.4  8.5\n",
      "  8.6  8.7  8.8  8.9  9.   9.1  9.2  9.3  9.4  9.5  9.6  9.7  9.8  9.9\n",
      " 10.  10.1 10.2 10.3 10.4 10.5 10.6 10.7 10.8 10.9 11.  11.1 11.2 11.3\n",
      " 11.4 11.5 11.6 11.7 11.8 11.9 12.  12.1 12.2 12.3 12.4 12.5 12.6 12.7\n",
      " 12.8 12.9 13.  13.1 13.2 13.3 13.4 13.5 13.6 13.7 13.8 13.9 14.  14.1\n",
      " 14.2 14.3 14.4 14.5]\n",
      "[0.3 0.4 0.5 0.6 0.7 0.8 0.9 1.  1.1 1.2 1.3 1.4]\n"
     ]
    }
   ],
   "source": [
    "# clean off magnitudes not wanted\n",
    "cut = (x.mag > 2.99) & (x.mag < 14.51)\n",
    "print(len(x))\n",
    "x = x[cut]\n",
    "print(len(x))\n",
    "cut = (x.color > 0.25) & (x.color < 1.45)\n",
    "print(len(x))\n",
    "x = x[cut]\n",
    "print(len(x))\n",
    "print(len(np.unique(x.hpx)))\n",
    "print(np.unique(x.mag))\n",
    "print(np.unique(x.color))\n",
    "mag_bins_all = np.unique(x.mag)\n",
    "color_bins_all = np.unique(x.color)\n",
    "x = np.sort(x, order=['hpx','mag','color'])\n"
   ]
  },
  {
   "cell_type": "code",
   "execution_count": 6,
   "metadata": {},
   "outputs": [
    {
     "name": "stdout",
     "output_type": "stream",
     "text": [
      "4683225\n",
      "58049518\n",
      "58049518\n",
      "12288\n",
      "12421671\n"
     ]
    }
   ],
   "source": [
    "# Preparation of data files from the ADQL Download\n",
    "# Make the result array for all stars\n",
    "print(len(x))\n",
    "print(sum(x.n_all))\n",
    "dr2 = make_result_all(x, mag_bins_all,color_bins_all, np.unique(x.hpx))\n",
    "print(sum(dr2))\n",
    "print(len(dr2))\n",
    "print(len(dr2[np.where(dr2==0)]))"
   ]
  },
  {
   "cell_type": "code",
   "execution_count": 7,
   "metadata": {},
   "outputs": [
    {
     "name": "stdout",
     "output_type": "stream",
     "text": [
      "4683225\n",
      "2296598\n",
      "7175721\n",
      "7175721\n",
      "12288\n",
      "14808298\n"
     ]
    }
   ],
   "source": [
    "\n",
    "# Make the result array for RVS stars\n",
    "print(len(x))\n",
    "cut = np.where(x.n_withrvs > 0)\n",
    "x = x[cut]\n",
    "print(len(x))\n",
    "\n",
    "print(sum(x.n_withrvs))\n",
    "rvs = make_result(x, mag_bins_all,color_bins_all ,np.unique(x.hpx))\n",
    "print(sum(rvs))\n",
    "print(len(rvs))\n",
    "print(len(rvs[np.where(rvs==0)]))"
   ]
  },
  {
   "cell_type": "code",
   "execution_count": 8,
   "metadata": {},
   "outputs": [],
   "source": [
    "yrange = mag_bins_all\n",
    "xrange = color_bins_all"
   ]
  },
  {
   "cell_type": "code",
   "execution_count": 10,
   "metadata": {},
   "outputs": [
    {
     "name": "stdout",
     "output_type": "stream",
     "text": [
      "(12288, 116, 12) (12288, 116, 12)\n",
      "(3072, 58, 12) (3072, 58, 12)\n",
      "[ 3.05  3.25  3.45  3.65  3.85  4.05  4.25  4.45  4.65  4.85  5.05  5.25\n",
      "  5.45  5.65  5.85  6.05  6.25  6.45  6.65  6.85  7.05  7.25  7.45  7.65\n",
      "  7.85  8.05  8.25  8.45  8.65  8.85  9.05  9.25  9.45  9.65  9.85 10.05\n",
      " 10.25 10.45 10.65 10.85 11.05 11.25 11.45 11.65 11.85 12.05 12.25 12.45\n",
      " 12.65 12.85 13.05 13.25 13.45 13.65 13.85 14.05 14.25 14.45]\n"
     ]
    }
   ],
   "source": [
    "np.savez(\"../data/video/3d_cube_full_resolution.npz\",rvs,dr2,xrange,yrange)\n",
    "\n",
    "print(dr2.shape,rvs.shape)\n",
    "rvs = decrease_hpx(rvs,1)\n",
    "dr2 = decrease_hpx(dr2,1)\n",
    "rvs,_ = decrease_mag(rvs,yrange,1)\n",
    "dr2,yrange = decrease_mag(dr2,yrange,1)\n",
    "print(dr2.shape,rvs.shape)\n",
    "print(yrange)"
   ]
  }
 ],
 "metadata": {
  "kernelspec": {
   "display_name": "Python 3",
   "language": "python",
   "name": "python3"
  },
  "language_info": {
   "codemirror_mode": {
    "name": "ipython",
    "version": 3
   },
   "file_extension": ".py",
   "mimetype": "text/x-python",
   "name": "python",
   "nbconvert_exporter": "python",
   "pygments_lexer": "ipython3",
   "version": "3.7.6"
  }
 },
 "nbformat": 4,
 "nbformat_minor": 2
}
