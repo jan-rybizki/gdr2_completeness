{
 "cells": [
  {
   "cell_type": "code",
   "execution_count": 1,
   "metadata": {},
   "outputs": [],
   "source": [
    "import numpy as np\n",
    "import matplotlib.pyplot as plt\n",
    "import healpy as hp\n",
    "from healpy import ang2pix, pix2ang\n",
    "from astropy.coordinates import SkyCoord"
   ]
  },
  {
   "cell_type": "code",
   "execution_count": 2,
   "metadata": {},
   "outputs": [],
   "source": [
    "def hpx2lb(hpx,lvl):\n",
    "    '''\n",
    "    Function to convert between HEALpix level 5 to Galactic l,b values\n",
    "    '''\n",
    "    nside = hp.order2nside(lvl)\n",
    "    ra,dec = pix2ang(nside,hpx,nest = True, lonlat=True)\n",
    "    coods = SkyCoord(ra,dec,unit = 'deg', frame = 'icrs')\n",
    "    l,b = coods.galactic.l.value, coods.galactic.b.value\n",
    "    return(l,b)\n",
    "\n",
    "def gaia_hpx_factor(healpix_number = 1):\n",
    "    \"\"\"\n",
    "    returns the number by which to divide the source_id in order to get a hpx number of a specific hpx level\n",
    "    INPUT:\n",
    "       healpix_number: the healpix level, ranging from 0 to 12, an integer\n",
    "    OUTPUT:\n",
    "       the gaia source id factor to get a specific hpx dicretization\n",
    "    \"\"\"\n",
    "    if healpix_number == -1:\n",
    "        return(6917528997577384321)\n",
    "    else:\n",
    "        return(np.power(2,35)*np.power(4,12-healpix_number))\n",
    "\n",
    "def number_of_healpixels(healpix_number = 1):\n",
    "    \"\"\"\n",
    "    returns the number of pixels for a specific level\n",
    "    \"\"\"\n",
    "    if healpix_number == -1:\n",
    "        return(1)\n",
    "    else:\n",
    "        return(np.power(4,healpix_number)*12)"
   ]
  },
  {
   "cell_type": "code",
   "execution_count": 3,
   "metadata": {},
   "outputs": [
    {
     "name": "stdout",
     "output_type": "stream",
     "text": [
      "12288\n"
     ]
    }
   ],
   "source": [
    "hpx_lvl = 5\n",
    "nhpx = number_of_healpixels(hpx_lvl)\n",
    "print(nhpx)"
   ]
  },
  {
   "cell_type": "code",
   "execution_count": 5,
   "metadata": {},
   "outputs": [],
   "source": [
    "hpx = np.arange(nhpx)\n",
    "l, b = hpx2lb(hpx,hpx_lvl)"
   ]
  },
  {
   "cell_type": "code",
   "execution_count": 6,
   "metadata": {},
   "outputs": [],
   "source": [
    "t = np.c_[hpx,l,b]"
   ]
  },
  {
   "cell_type": "code",
   "execution_count": 7,
   "metadata": {},
   "outputs": [],
   "source": [
    "np.savetxt(\"hpx_level_5_galactic_coordinates.dat\",t,fmt=\"%d, %.4f, %.4f\", delimiter = \",\", header = \"nhpx, l , b\")"
   ]
  },
  {
   "cell_type": "code",
   "execution_count": null,
   "metadata": {},
   "outputs": [],
   "source": []
  }
 ],
 "metadata": {
  "kernelspec": {
   "display_name": "Python 3",
   "language": "python",
   "name": "python3"
  },
  "language_info": {
   "codemirror_mode": {
    "name": "ipython",
    "version": 3
   },
   "file_extension": ".py",
   "mimetype": "text/x-python",
   "name": "python",
   "nbconvert_exporter": "python",
   "pygments_lexer": "ipython3",
   "version": "3.7.6"
  }
 },
 "nbformat": 4,
 "nbformat_minor": 4
}
