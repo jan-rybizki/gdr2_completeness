{
 "cells": [
  {
   "cell_type": "code",
   "execution_count": 1,
   "metadata": {},
   "outputs": [],
   "source": [
    "import numpy as np\n",
    "import matplotlib.pyplot as plt\n",
    "import healpy as hp\n",
    "from healpy import ang2pix, pix2ang, order2nside\n",
    "from astropy.coordinates import SkyCoord"
   ]
  },
  {
   "cell_type": "code",
   "execution_count": 2,
   "metadata": {},
   "outputs": [],
   "source": [
    "def hpx2lb(hpx,lvl):\n",
    "    '''\n",
    "    Function to convert between HEALpix level 5 to Galactic l,b values\n",
    "    '''\n",
    "    nside = hp.order2nside(lvl)\n",
    "    ra,dec = pix2ang(nside,hpx,nest = True, lonlat=True)\n",
    "    coods = SkyCoord(ra,dec,unit = 'deg', frame = 'icrs')\n",
    "    l,b = coods.galactic.l.value, coods.galactic.b.value\n",
    "    return(l,b)\n",
    "\n",
    "def gaia_hpx_factor(healpix_number = 1):\n",
    "    \"\"\"\n",
    "    returns the number by which to divide the source_id in order to get a hpx number of a specific hpx level\n",
    "    INPUT:\n",
    "       healpix_number: the healpix level, ranging from 0 to 12, an integer\n",
    "    OUTPUT:\n",
    "       the gaia source id factor to get a specific hpx dicretization\n",
    "    \"\"\"\n",
    "    if healpix_number == -1:\n",
    "        return(6917528997577384321)\n",
    "    else:\n",
    "        return(np.power(2,35)*np.power(4,12-healpix_number))\n",
    "\n",
    "def number_of_healpixels(healpix_number = 1):\n",
    "    \"\"\"\n",
    "    returns the number of pixels for a specific level\n",
    "    \"\"\"\n",
    "    if healpix_number == -1:\n",
    "        return(1)\n",
    "    else:\n",
    "        return(np.power(4,healpix_number)*12)"
   ]
  },
  {
   "cell_type": "code",
   "execution_count": 3,
   "metadata": {},
   "outputs": [
    {
     "name": "stdout",
     "output_type": "stream",
     "text": [
      "HEALpix level, Gaia source_id divisor (hpx_factor)\n",
      "0 576460752303423488\n",
      "1 144115188075855872\n",
      "2 36028797018963968\n",
      "3 9007199254740992\n",
      "4 2251799813685248\n",
      "5 562949953421312\n",
      "6 140737488355328\n",
      "7 35184372088832\n",
      "8 8796093022208\n",
      "9 2199023255552\n",
      "10 549755813888\n",
      "11 137438953472\n",
      "12 34359738368\n"
     ]
    }
   ],
   "source": [
    "# The operation np.floor(np.divide(source_id, hpx_factor)) \n",
    "#returns the HEALpix number (in nested scheme, using ra, dec)\n",
    "print(\"HEALpix level, Gaia source_id divisor (hpx_factor)\")\n",
    "for hpx_lvl in range(13):\n",
    "    nhpx = gaia_hpx_factor(hpx_lvl)\n",
    "    print(hpx_lvl,nhpx)"
   ]
  },
  {
   "cell_type": "code",
   "execution_count": 4,
   "metadata": {},
   "outputs": [
    {
     "name": "stdout",
     "output_type": "stream",
     "text": [
      "HEALpix level, number of HEALpix\n",
      "0 12\n",
      "1 48\n",
      "2 192\n",
      "3 768\n",
      "4 3072\n",
      "5 12288\n",
      "6 49152\n",
      "7 196608\n",
      "8 786432\n",
      "9 3145728\n",
      "10 12582912\n",
      "11 50331648\n",
      "12 201326592\n"
     ]
    }
   ],
   "source": [
    "print(\"HEALpix level, number of HEALpix\")\n",
    "for hpx_lvl in range(13):\n",
    "    nhpx = number_of_healpixels(hpx_lvl)\n",
    "    print(hpx_lvl,nhpx)"
   ]
  },
  {
   "cell_type": "code",
   "execution_count": 5,
   "metadata": {},
   "outputs": [
    {
     "name": "stdout",
     "output_type": "stream",
     "text": [
      "HEALpix level, nside\n",
      "0 1\n",
      "1 2\n",
      "2 4\n",
      "3 8\n",
      "4 16\n",
      "5 32\n",
      "6 64\n",
      "7 128\n",
      "8 256\n",
      "9 512\n",
      "10 1024\n",
      "11 2048\n",
      "12 4096\n"
     ]
    }
   ],
   "source": [
    "print(\"HEALpix level, nside\")\n",
    "for hpx_lvl in range(13):\n",
    "    nhpx = order2nside(hpx_lvl)\n",
    "    print(hpx_lvl,nhpx)"
   ]
  },
  {
   "cell_type": "code",
   "execution_count": 6,
   "metadata": {},
   "outputs": [],
   "source": [
    "# Provide a list of Galactic coordinates per HEALpix:\n",
    "nhpx = number_of_healpixels(5)\n",
    "hpx = np.arange(nhpx)\n",
    "l, b = hpx2lb(hpx,hpx_lvl)\n",
    "t = np.c_[hpx,l,b]\n",
    "np.savetxt(\"hpx_level_5_galactic_coordinates.dat\",t,fmt=\"%d, %.4f, %.4f\", delimiter = \",\", header = \"nhpx, l , b\")"
   ]
  }
 ],
 "metadata": {
  "kernelspec": {
   "display_name": "Python 3",
   "language": "python",
   "name": "python3"
  },
  "language_info": {
   "codemirror_mode": {
    "name": "ipython",
    "version": 3
   },
   "file_extension": ".py",
   "mimetype": "text/x-python",
   "name": "python",
   "nbconvert_exporter": "python",
   "pygments_lexer": "ipython3",
   "version": "3.7.6"
  }
 },
 "nbformat": 4,
 "nbformat_minor": 4
}
