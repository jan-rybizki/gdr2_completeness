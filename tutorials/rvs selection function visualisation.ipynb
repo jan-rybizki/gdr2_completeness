{
 "cells": [
  {
   "cell_type": "code",
   "execution_count": 1,
   "metadata": {},
   "outputs": [
    {
     "name": "stdout",
     "output_type": "stream",
     "text": [
      "Populating the interactive namespace from numpy and matplotlib\n"
     ]
    }
   ],
   "source": [
    "%pylab inline\n",
    "from astropy.io import fits"
   ]
  },
  {
   "cell_type": "code",
   "execution_count": 2,
   "metadata": {},
   "outputs": [],
   "source": [
    "x = np.load(\"../data/3d_cube_level_6_completeness_function.npz\")\n",
    "rvs = x['arr_0']\n",
    "dr2 =x['arr_1']\n",
    "xrange =x['arr_2']\n",
    "yrange =x['arr_3']\n",
    "lower =x['arr_4']\n",
    "upper =x['arr_5']\n",
    "compl =x['arr_6']\n",
    "hplvl =x['arr_7']\n",
    "nall =x['arr_8']\n",
    "nrvs =x['arr_9']\n",
    "cmd = x['arr_10']\n",
    "rvs_all = x['arr_11']"
   ]
  },
  {
   "cell_type": "code",
   "execution_count": 3,
   "metadata": {},
   "outputs": [],
   "source": [
    "figsizex = 12\n",
    "figsizey = 7\n",
    "# We use a bigger font for you to see better on the beamer\n",
    "font = {'family' : 'normal',\n",
    "        'weight' : 'bold',\n",
    "        'size'   : 22}\n",
    "matplotlib.rc('font', **font)\n",
    "import matplotlib.colors as colors\n",
    "\n",
    "import healpy as hp\n",
    "from healpy.visufunc import projplot\n",
    "from healpy import pix2ang"
   ]
  },
  {
   "cell_type": "code",
   "execution_count": 4,
   "metadata": {
    "scrolled": true
   },
   "outputs": [
    {
     "name": "stderr",
     "output_type": "stream",
     "text": [
      "/home/rybizki/anaconda3/lib/python3.7/site-packages/ipykernel_launcher.py:36: RuntimeWarning: invalid value encountered in true_divide\n",
      "/home/rybizki/anaconda3/lib/python3.7/site-packages/ipykernel_launcher.py:42: RuntimeWarning: invalid value encountered in true_divide\n",
      "findfont: Font family ['normal'] not found. Falling back to DejaVu Sans.\n",
      "findfont: Font family ['normal'] not found. Falling back to DejaVu Sans.\n",
      "findfont: Font family ['normal'] not found. Falling back to DejaVu Sans.\n",
      "/home/rybizki/anaconda3/lib/python3.7/site-packages/healpy/pixelfunc.py:345: RuntimeWarning: invalid value encountered in less_equal\n",
      "  return np.absolute(m - badval) <= atol + rtol * np.absolute(badval)\n",
      "/home/rybizki/anaconda3/lib/python3.7/site-packages/healpy/projaxes.py:1184: RuntimeWarning: invalid value encountered in less\n",
      "  result.data[result.data < 0] = 0.0\n",
      "/home/rybizki/anaconda3/lib/python3.7/site-packages/healpy/projaxes.py:1185: RuntimeWarning: invalid value encountered in greater\n",
      "  result.data[result.data > 1] = 1.0\n",
      "/home/rybizki/anaconda3/lib/python3.7/site-packages/ipykernel_launcher.py:28: UserWarning: This figure includes Axes that are not compatible with tight_layout, so results might be incorrect.\n"
     ]
    }
   ],
   "source": [
    "\n",
    "\n",
    "def plot_sky_all(ratio_cmd,data1,data2,data3,i,j):\n",
    "    fig, (ax1, ax2) = plt.subplots(nrows=2,ncols = 2,figsize=(figsizex,figsizey))\n",
    "    plt.axes(ax1[0])\n",
    "    plt.imshow(ratio_cmd,extent=(xrange.min()-0.05, xrange.max()+0.05, yrange.min()-0.1, yrange.max()+0.1), \n",
    "               cmap=cm.viridis, aspect = 'auto', vmin = 0, vmax = 1)\n",
    "    plt.plot(xrange[j],yrange[i],\"rx\", ms = 10, mew = 5)\n",
    "    plt.vlines([1.25,0.35],yrange.min()-0.05,yrange.max()+0.05,linestyles=\"dashed\", alpha = 0.5, lw = 5,colors= 'red')\n",
    "    plt.hlines([12.05,2.95],xrange.min()-0.05,xrange.max()+0.05,linestyles=\"dashed\", alpha = 0.5, lw = 5,colors= 'red')\n",
    "    #plt.plot(xrange,mode_color, \"w_\", linestyle = \"\", markersize=32, mew=5, alpha = 0.5)\n",
    "    plt.ylabel(r\"$\\mathrm{G}_\\mathrm{RVS}$ [mag]\")\n",
    "    plt.xlabel(r\"$\\mathrm{G}-\\mathrm{G}_\\mathrm{RP}$ [mag]\")\n",
    "    plt.colorbar(label= \"completeness\")\n",
    "    ax1[0].xaxis.set_label_position('top') \n",
    "    plt.gca().invert_yaxis()\n",
    "\n",
    "    plt.axes(ax1[1])\n",
    "    hp.mollview(data2, nest = True, coord= \"CG\", unit = 'HEALpix level',notext =True, hold = True, title= \"\",\n",
    "                min = -1, max = 6, cmap = cm.rainbow)\n",
    "\n",
    "\n",
    "    plt.axes(ax2[0])\n",
    "    hp.mollview(data1, nest = True, coord= \"CG\", unit = 'completeness',notext =True, hold = True, title= \"\",\n",
    "                min = 0, max = 1)\n",
    "    \n",
    "    plt.axes(ax2[1])\n",
    "    hp.mollview(data3, nest = True, coord= \"CG\", unit = 'frac. uncertainty',notext =True, hold = True, title= \"\",\n",
    "                min = 0, max = 1, cmap = cm.inferno_r)\n",
    "    plt.tight_layout()\n",
    "    plt.savefig(\"../plots/new/selection_function/sky_rvs/cmd_col_%#02d_mag_%#02d.png\" %(j,i))\n",
    "    #plt.show()\n",
    "    plt.clf()\n",
    "    plt.close()\n",
    "\n",
    "rvs_cmd = np.nansum(nall*compl,axis = 0)\n",
    "all_cmd = np.nansum(nall,axis = 0)\n",
    "cmd = np.divide(rvs_cmd,all_cmd)[::-1]    \n",
    "\n",
    "for i in range(len(yrange)):\n",
    "    for j in range(len(xrange)):\n",
    "        data1 = compl[:,i,j]\n",
    "        data2 = hplvl[:,i,j]\n",
    "        data3 = np.divide(np.divide(upper[:,i,j]-lower[:,i,j],2),compl[:,i,j])\n",
    "        plot_sky_all(cmd,data1,data2,data3,i,j)\n"
   ]
  },
  {
   "cell_type": "code",
   "execution_count": 12,
   "metadata": {
    "scrolled": false
   },
   "outputs": [
    {
     "name": "stderr",
     "output_type": "stream",
     "text": [
      "/home/rybizki/anaconda3/lib/python3.7/site-packages/ipykernel_launcher.py:56: RuntimeWarning: invalid value encountered in true_divide\n",
      "/home/rybizki/anaconda3/lib/python3.7/site-packages/ipykernel_launcher.py:44: UserWarning: This figure includes Axes that are not compatible with tight_layout, so results might be incorrect.\n"
     ]
    }
   ],
   "source": [
    "def plot_3d_color(data1,data2,data3,hpx):\n",
    "    fig, (ax1, ax2) = plt.subplots(nrows=2,ncols=2,figsize=(figsizex,figsizey))\n",
    "    \n",
    "    # the color magnitude diagram\n",
    "    plt.axes(ax1[0])\n",
    "    plt.imshow(data1,extent=(xrange.min()-0.05, xrange.max()+0.05, yrange.min()-0.1, yrange.max()+0.1), \n",
    "               cmap=cm.viridis, aspect = 'auto', vmin = 0, vmax = 1,interpolation='antialiased')\n",
    "    plt.vlines([1.25,0.35],yrange.min()-0.05,yrange.max()+0.05,linestyles=\"dashed\", alpha = 0.5, lw = 5,colors= 'red')\n",
    "    plt.hlines([12.05,2.95],xrange.min()-0.05,xrange.max()+0.05,linestyles=\"dashed\", alpha = 0.5, lw = 5,colors= 'red')\n",
    "    plt.ylabel(r\"$\\mathrm{G}_\\mathrm{RVS}$ [mag]\")\n",
    "    plt.xlabel(r\"$\\mathrm{G}-\\mathrm{G}_\\mathrm{RP}$ [mag]\")\n",
    "    plt.colorbar(label= \"completeness\")\n",
    "    #ax1[0].xaxis.set_label_position('top') \n",
    "    plt.gca().invert_yaxis()\n",
    "\n",
    "    plt.axes(ax1[1])\n",
    "    plt.imshow(data2,extent=(xrange.min()-0.05, xrange.max()+0.05, yrange.min()-0.1, yrange.max()+0.1), \n",
    "               cmap=cm.rainbow, aspect = 'auto', vmin = -1, vmax = 6,interpolation=None)\n",
    "    plt.vlines([1.25,0.35],yrange.min()-0.05,yrange.max()+0.05,linestyles=\"dashed\", alpha = 0.5, lw = 5,colors= 'red')\n",
    "    plt.hlines([12.05,2.95],xrange.min()-0.05,xrange.max()+0.05,linestyles=\"dashed\", alpha = 0.5, lw = 5,colors= 'red')\n",
    "    plt.ylabel(r\"$\\mathrm{G}_\\mathrm{RVS}$ [mag]\")\n",
    "    plt.xlabel(r\"$\\mathrm{G}-\\mathrm{G}_\\mathrm{RP}$ [mag]\")\n",
    "    plt.colorbar(label= \"HEALpix level\")\n",
    "    plt.gca().invert_yaxis()\n",
    "    \n",
    "    # the skyplot indicating the HEALpix\n",
    "    plt.axes(ax2[0])\n",
    "    hp.mollview(rvs_all, nest = True, coord= \"CG\", unit = r'sources/deg$^2$',notext =True, \n",
    "                hold = True, title= \"\", norm=colors.LogNorm(), min = 17, max = 2681)\n",
    "    cood = pix2ang(64,hpx,nest = True, lonlat = True)\n",
    "    hpx = hp.ang2pix(64,cood[0],cood[1],nest = False,lonlat = True)\n",
    "    projplot(cood,'rx',lonlat = True, ms = 10, mew = 3, coord = \"CG\")\n",
    "    \n",
    "    \n",
    "    plt.axes(ax2[1])\n",
    "    plt.imshow(data3,extent=(xrange.min()-0.05, xrange.max()+0.05, yrange.min()-0.1, yrange.max()+0.1), \n",
    "               cmap=cm.inferno_r, aspect = 'auto', vmin = 0, vmax = 1)\n",
    "    plt.vlines([1.25,0.35],yrange.min()-0.05,yrange.max()+0.05,linestyles=\"dashed\", alpha = 0.5, lw = 5,colors= 'red')\n",
    "    plt.hlines([12.05,2.95],xrange.min()-0.05,xrange.max()+0.05,linestyles=\"dashed\", alpha = 0.5, lw = 5,colors= 'red')\n",
    "    plt.ylabel(r\"$\\mathrm{G}_\\mathrm{RVS}$ [mag]\")\n",
    "    plt.xlabel(r\"$\\mathrm{G}-\\mathrm{G}_\\mathrm{RP}$ [mag]\")\n",
    "    plt.colorbar(label= \"frac. uncertainty\")\n",
    "    plt.gca().invert_yaxis()\n",
    "    plt.tight_layout()\n",
    "    #plt.show()\n",
    "    plt.savefig(\"../plots/new/selection_function/cmd_rvs/cmd_hpx_%#05d.png\" %(hpx),dpi=200)\n",
    "    plt.clf()\n",
    "    plt.close()\n",
    "\n",
    "#rvs_sky = np.nansum(np.nansum(nall*compl,axis = -1),axis = -1)\n",
    "for i in range(len(nall)//16):\n",
    "    i *= 16\n",
    "    #if i > 300: \n",
    "    #    continue\n",
    "    #print(i)\n",
    "    plot_3d_color(compl[i][::-1],hplvl[i][::-1],np.divide(np.divide(upper[i][::-1]-lower[i][::-1],2),compl[i][::-1]),i)\n"
   ]
  },
  {
   "cell_type": "code",
   "execution_count": null,
   "metadata": {},
   "outputs": [],
   "source": []
  }
 ],
 "metadata": {
  "kernelspec": {
   "display_name": "Python 3",
   "language": "python",
   "name": "python3"
  },
  "language_info": {
   "codemirror_mode": {
    "name": "ipython",
    "version": 3
   },
   "file_extension": ".py",
   "mimetype": "text/x-python",
   "name": "python",
   "nbconvert_exporter": "python",
   "pygments_lexer": "ipython3",
   "version": "3.7.6"
  }
 },
 "nbformat": 4,
 "nbformat_minor": 2
}
